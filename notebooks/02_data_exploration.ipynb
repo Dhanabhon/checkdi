{
 "cells": [
  {
   "cell_type": "markdown",
   "metadata": {},
   "source": [
    "# Data Exploration Notebook\n",
    "\n",
    "This notebook explores the raw data acquired from the AFNC website to understand its structure and characteristics."
   ]
  },
  {
   "cell_type": "code",
   "execution_count": null,
   "metadata": {},
   "outputs": [],
   "source": [
    "# Import required libraries\n",
    "import pandas as pd\n",
    "import numpy as np\n",
    "import matplotlib.pyplot as plt\n",
    "import seaborn as sns\n",
    "from wordcloud import WordCloud\n",
    "import re\n",
    "\n",
    "# Set up plotting style\n",
    "plt.style.use('seaborn-v0_8')\n",
    "sns.set_palette(\"husl\")\n",
    "%matplotlib inline"
   ]
  },
  {
   "cell_type": "code",
   "execution_count": null,
   "metadata": {},
   "outputs": [],
   "source": [
    "# Load the raw data\n",
    "try:\n",
    "    df = pd.read_csv('../data/raw/news.csv')\n",
    "    print(f\"Dataset shape: {df.shape}\")\n",
    "    print(\"\\nColumn names:\")\n",
    "    print(df.columns.tolist())\n",
    "except FileNotFoundError:\n",
    "    print(\"Raw data file not found. Please run the data acquisition notebook first.\")"
   ]
  },
  {
   "cell_type": "code",
   "execution_count": null,
   "metadata": {},
   "outputs": [],
   "source": [
    "# Display basic information about the dataset\n",
    "if 'df' in locals():\n",
    "    print(\"\\nDataset info:\")\n",
    "    print(df.info())\n",
    "    \n",
    "    print(\"\\nFirst 5 rows:\")\n",
    "    display(df.head())\n",
    "    \n",
    "    print(\"\\nBasic statistics:\")\n",
    "    display(df.describe(include='all'))"
   ]
  },
  {
   "cell_type": "code",
   "execution_count": null,
   "metadata": {},
   "outputs": [],
   "source": [
    "# Analyze label distribution\n",
    "if 'df' in locals():\n",
    "    print(\"Label distribution:\")\n",
    "    label_counts = df['label'].value_counts()\n",
    "    print(label_counts)\n",
    "    \n",
    "    # Plot label distribution\n",
    "    plt.figure(figsize=(8, 6))\n",
    "    sns.barplot(x=label_counts.index, y=label_counts.values)\n",
    "    plt.title('Distribution of News Labels')\n",
    "    plt.xlabel('Label')\n",
    "    plt.ylabel('Count')\n",
    "    plt.show()"
   ]
  },
  {
   "cell_type": "code",
   "execution_count": null,
   "metadata": {},
   "outputs": [],
   "source": [
    "# Analyze headline length\n",
    "if 'df' in locals():\n",
    "    df['headline_length'] = df['headline'].astype(str).apply(len)\n",
    "    \n",
    "    print(\"Headline length statistics:\")\n",
    "    print(df['headline_length'].describe())\n",
    "    \n",
    "    # Plot headline length distribution\n",
    "    plt.figure(figsize=(10, 6))\n",
    "    plt.hist(df['headline_length'], bins=30, alpha=0.7)\n",
    "    plt.title('Distribution of Headline Lengths')\n",
    "    plt.xlabel('Headline Length (characters)')\n",
    "    plt.ylabel('Frequency')\n",
    "    plt.show()\n",
    "    \n",
    "    # Compare headline lengths by label\n",
    "    plt.figure(figsize=(10, 6))\n",
    "    sns.boxplot(data=df, x='label', y='headline_length')\n",
    "    plt.title('Headline Length by Label')\n",
    "    plt.xlabel('Label')\n",
    "    plt.ylabel('Headline Length (characters)')\n",
    "    plt.show()"
   ]
  },
  {
   "cell_type": "code",
   "execution_count": null,
   "metadata": {},
   "outputs": [],
   "source": [
    "# Text analysis\n",
    "if 'df' in locals():\n",
    "    # Function to clean text for analysis\n",
    "    def clean_text_for_analysis(text):\n",
    "        if pd.isna(text):\n",
    "            return \"\"\n",
    "        # Remove special characters and digits\n",
    "        text = re.sub(r'[^\\u0E00-\\u0E7F\\s]', '', str(text))\n",
    "        # Remove extra whitespaces\n",
    "        text = re.sub(r'\\s+', ' ', text)\n",
    "        return text.strip()\n",
    "    \n",
    "    # Clean headlines for analysis\n",
    "    df['cleaned_headline'] = df['headline'].apply(clean_text_for_analysis)\n",
    "    \n",
    "    # Word clouds for each label\n",
    "    for label in df['label'].unique():\n",
    "        if pd.notna(label):\n",
    "            text = ' '.join(df[df['label'] == label]['cleaned_headline'].dropna())\n",
    "            if text:\n",
    "                wordcloud = WordCloud(\n",
    "                    width=800, \n",
    "                    height=400, \n",
    "                    background_color='white',\n",
    "                    font_path='/System/Library/Fonts/Thonburi.ttc' if pd.os.name == 'posix' else None\n",
    "                ).generate(text)\n",
    "                \n",
    "                plt.figure(figsize=(10, 5))\n",
    "                plt.imshow(wordcloud, interpolation='bilinear')\n",
    "                plt.axis('off')\n",
    "                plt.title(f'Word Cloud for {label} News')\n",
    "                plt.show()\n",
    "            else:\n",
    "                print(f\"No text data available for {label} news\")"
   ]
  },
  {
   "cell_type": "markdown",
   "metadata": {},
   "source": [
    "## Key Insights\n",
    "\n",
    "Based on the exploration:\n",
    "1. Dataset size and structure\n",
    "2. Label distribution (Real vs Fake news)\n",
    "3. Headline length characteristics\n",
    "4. Common words in each category\n",
    "\n",
    "## Next Steps\n",
    "\n",
    "Proceed to the data preparation notebook to clean and prepare the data for model training."
   ]
  }
 ],
 "metadata": {
  "kernelspec": {
   "display_name": "Python 3",
   "language": "python",
   "name": "python3"
  },
  "language_info": {
   "codemirror_mode": {
    "name": "ipython",
    "version": 3
   },
   "file_extension": ".py",
   "mimetype": "text/x-python",
   "name": "python",
   "nbconvert_exporter": "python",
   "pygments_lexer": "ipython3",
   "version": "3.9.0"
  }
 },
 "nbformat": 4,
 "nbformat_minor": 4
}