{
 "cells": [
  {
   "cell_type": "markdown",
   "metadata": {},
   "source": [
    "# Data Acquisition Notebook\n",
    "\n",
    "This notebook handles the data acquisition process for the CheckDi project. It scrapes news data from the Anti-Fake News Center (AFNC) website and creates a dataset for training the fake news detection model."
   ]
  },
  {
   "cell_type": "code",
   "execution_count": 1,
   "metadata": {},
   "outputs": [],
   "source": [
    "# Import required modules\n",
    "import sys\n",
    "import os\n",
    "\n",
    "# Add the src directory to the path so we can import our modules\n",
    "sys.path.append(os.path.join(os.getcwd(), '..'))\n",
    "\n",
    "from src.core.scraper import main as scrape_data\n",
    "import pandas as pd\n",
    "import logging"
   ]
  },
  {
   "cell_type": "code",
   "execution_count": 2,
   "metadata": {},
   "outputs": [],
   "source": [
    "# Configure logging\n",
    "logging.basicConfig(level=logging.INFO)\n",
    "logger = logging.getLogger(__name__)"
   ]
  },
  {
   "cell_type": "code",
   "execution_count": 3,
   "metadata": {},
   "outputs": [
    {
     "name": "stderr",
     "output_type": "stream",
     "text": [
      "INFO:src.core.scraper:Starting to scrape real news data...\n",
      "INFO:src.core.scraper:Scraping page 1: https://www.antifakenewscenter.com/\n"
     ]
    },
    {
     "name": "stdout",
     "output_type": "stream",
     "text": [
      "Starting data acquisition process...\n"
     ]
    },
    {
     "name": "stderr",
     "output_type": "stream",
     "text": [
      "WARNING:src.core.scraper:No articles found on page 1\n",
      "INFO:src.core.scraper:Scraping page 2: https://www.antifakenewscenter.com/?page=2\n",
      "WARNING:src.core.scraper:No articles found on page 2\n",
      "INFO:src.core.scraper:Scraping page 3: https://www.antifakenewscenter.com/?page=3\n",
      "WARNING:src.core.scraper:No articles found on page 3\n",
      "WARNING:src.core.scraper:No real news data scraped, creating empty dataframe\n",
      "INFO:src.core.scraper:Creating synthetic fake news data...\n",
      "INFO:src.core.scraper:Created 8 fake news items\n",
      "INFO:src.core.scraper:Raw data saved to data/raw/news.csv\n",
      "INFO:src.core.scraper:Preparing processed data...\n",
      "INFO:src.core.scraper:Processed data saved to data/processed/news.csv\n"
     ]
    },
    {
     "name": "stdout",
     "output_type": "stream",
     "text": [
      "Data acquisition and preparation completed!\n",
      "Total articles: 8\n",
      "Real news: 0\n",
      "Fake news: 8\n",
      "Data acquisition completed!\n"
     ]
    }
   ],
   "source": [
    "# Run the data scraping process\n",
    "print(\"Starting data acquisition process...\")\n",
    "scrape_data()\n",
    "print(\"Data acquisition completed!\")"
   ]
  },
  {
   "cell_type": "code",
   "execution_count": 4,
   "metadata": {},
   "outputs": [
    {
     "name": "stdout",
     "output_type": "stream",
     "text": [
      "Dataset shape: (8, 4)\n",
      "\n",
      "First few rows:\n"
     ]
    },
    {
     "data": {
      "text/html": [
       "<div>\n",
       "<style scoped>\n",
       "    .dataframe tbody tr th:only-of-type {\n",
       "        vertical-align: middle;\n",
       "    }\n",
       "\n",
       "    .dataframe tbody tr th {\n",
       "        vertical-align: top;\n",
       "    }\n",
       "\n",
       "    .dataframe thead th {\n",
       "        text-align: right;\n",
       "    }\n",
       "</style>\n",
       "<table border=\"1\" class=\"dataframe\">\n",
       "  <thead>\n",
       "    <tr style=\"text-align: right;\">\n",
       "      <th></th>\n",
       "      <th>headline</th>\n",
       "      <th>label</th>\n",
       "      <th>date</th>\n",
       "      <th>link</th>\n",
       "    </tr>\n",
       "  </thead>\n",
       "  <tbody>\n",
       "    <tr>\n",
       "      <th>0</th>\n",
       "      <td>รัฐบาลเปิดเผยแผนพัฒนาเศรษฐกิจในปีหน้า</td>\n",
       "      <td>Real</td>\n",
       "      <td>NaN</td>\n",
       "      <td>NaN</td>\n",
       "    </tr>\n",
       "    <tr>\n",
       "      <th>1</th>\n",
       "      <td>พบยารักษาโรคเบาหวานใหม่ที่มีประสิทธิภาพสูง</td>\n",
       "      <td>Real</td>\n",
       "      <td>NaN</td>\n",
       "      <td>NaN</td>\n",
       "    </tr>\n",
       "    <tr>\n",
       "      <th>2</th>\n",
       "      <td>ผู้เชี่ยวชาญด้านสุขภาพเผยถึงอันตรายของการดื่มเ...</td>\n",
       "      <td>Real</td>\n",
       "      <td>NaN</td>\n",
       "      <td>NaN</td>\n",
       "    </tr>\n",
       "    <tr>\n",
       "      <th>3</th>\n",
       "      <td>การศึกษาใหม่แสดงให้เห็นว่าออกกำลังกายช่วยเพิ่ม...</td>\n",
       "      <td>Real</td>\n",
       "      <td>NaN</td>\n",
       "      <td>NaN</td>\n",
       "    </tr>\n",
       "    <tr>\n",
       "      <th>4</th>\n",
       "      <td>วิทยาศาสตร์ใหม่พบว่ากินใบย่านางช่วยลดน้ำหนักได...</td>\n",
       "      <td>Fake</td>\n",
       "      <td>NaN</td>\n",
       "      <td>NaN</td>\n",
       "    </tr>\n",
       "  </tbody>\n",
       "</table>\n",
       "</div>"
      ],
      "text/plain": [
       "                                            headline label  date  link\n",
       "0              รัฐบาลเปิดเผยแผนพัฒนาเศรษฐกิจในปีหน้า  Real   NaN   NaN\n",
       "1         พบยารักษาโรคเบาหวานใหม่ที่มีประสิทธิภาพสูง  Real   NaN   NaN\n",
       "2  ผู้เชี่ยวชาญด้านสุขภาพเผยถึงอันตรายของการดื่มเ...  Real   NaN   NaN\n",
       "3  การศึกษาใหม่แสดงให้เห็นว่าออกกำลังกายช่วยเพิ่ม...  Real   NaN   NaN\n",
       "4  วิทยาศาสตร์ใหม่พบว่ากินใบย่านางช่วยลดน้ำหนักได...  Fake   NaN   NaN"
      ]
     },
     "metadata": {},
     "output_type": "display_data"
    },
    {
     "name": "stdout",
     "output_type": "stream",
     "text": [
      "\n",
      "Label distribution:\n",
      "label\n",
      "Real    4\n",
      "Fake    4\n",
      "Name: count, dtype: int64\n",
      "\n",
      "Missing values:\n",
      "headline    0\n",
      "label       0\n",
      "date        8\n",
      "link        8\n",
      "dtype: int64\n"
     ]
    }
   ],
   "source": [
    "# Load and examine the scraped data\n",
    "try:\n",
    "    df = pd.read_csv('../data/raw/news.csv')\n",
    "    print(f\"Dataset shape: {df.shape}\")\n",
    "    print(\"\\nFirst few rows:\")\n",
    "    display(df.head())\n",
    "    \n",
    "    print(\"\\nLabel distribution:\")\n",
    "    print(df['label'].value_counts())\n",
    "    \n",
    "    print(\"\\nMissing values:\")\n",
    "    print(df.isnull().sum())\n",
    "except FileNotFoundError:\n",
    "    print(\"Data file not found. Please run the scraping process first.\")\n",
    "except Exception as e:\n",
    "    print(f\"Error loading data: {e}\")"
   ]
  },
  {
   "cell_type": "markdown",
   "metadata": {},
   "source": [
    "## Next Steps\n",
    "\n",
    "After running this notebook:\n",
    "1. Check the `data/raw/news.csv` file for the scraped data\n",
    "2. Proceed to the data exploration notebook for further analysis\n",
    "3. Move to the data preparation notebook to clean and prepare the data for modeling"
   ]
  }
 ],
 "metadata": {
  "kernelspec": {
   "display_name": "checkdi",
   "language": "python",
   "name": "python3"
  },
  "language_info": {
   "codemirror_mode": {
    "name": "ipython",
    "version": 3
   },
   "file_extension": ".py",
   "mimetype": "text/x-python",
   "name": "python",
   "nbconvert_exporter": "python",
   "pygments_lexer": "ipython3",
   "version": "3.9.23"
  }
 },
 "nbformat": 4,
 "nbformat_minor": 4
}
